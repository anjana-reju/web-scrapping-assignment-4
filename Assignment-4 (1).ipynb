{
 "cells": [
  {
   "cell_type": "code",
   "execution_count": 2,
   "metadata": {},
   "outputs": [],
   "source": [
    "# Importing Libraries\n",
    "import selenium\n",
    "import pandas as pd\n",
    "import time\n",
    "from bs4 import BeautifulSoup \n",
    "from selenium import webdriver\n",
    "\n",
    "from selenium.common.exceptions import StaleElementReferenceException, NoSuchElementException\n",
    "import requests\n",
    "import re"
   ]
  },
  {
   "cell_type": "markdown",
   "metadata": {},
   "source": [
    "1. Scrape the details of most viewed videos on YouTube from Wikipedia:\n",
    "Url = https://en.wikipedia.org/wiki/List_of_most-viewed_YouTube_videos/\n",
    "You need to find following details:\n",
    "A) Rank\n",
    "B) Name\n",
    "C) Artist\n",
    "D) Upload date\n",
    "E) Views"
   ]
  },
  {
   "cell_type": "code",
   "execution_count": 36,
   "metadata": {},
   "outputs": [],
   "source": [
    "#initialising driver\n",
    "driver=webdriver.Chrome(\"C:\\Web driver\\\\chromedriver.exe\")\n",
    "driver.get('https://en.wikipedia.org/wiki/List_of_most-viewed_YouTube_videos')"
   ]
  },
  {
   "cell_type": "code",
   "execution_count": 38,
   "metadata": {},
   "outputs": [],
   "source": [
    "# creating empty lists for scraping data\n",
    "Name=[]\n",
    "Artist=[]\n",
    "Upload_date=[]\n",
    "Views=[]"
   ]
  },
  {
   "cell_type": "code",
   "execution_count": 39,
   "metadata": {},
   "outputs": [
    {
     "data": {
      "text/plain": [
       "['Baby Shark Dance', 'Pinkfong']"
      ]
     },
     "execution_count": 39,
     "metadata": {},
     "output_type": "execute_result"
    }
   ],
   "source": [
    "#scraping the name\n",
    "name=driver.find_elements_by_xpath('//table[@class=\"wikitable sortable jquery-tablesorter\"]/tbody/tr[1]/td[2]/a')\n",
    "for i in name:\n",
    "    name=i.text\n",
    "    Name.append(name)\n",
    "\n",
    "Name[0:4] "
   ]
  },
  {
   "cell_type": "code",
   "execution_count": 40,
   "metadata": {},
   "outputs": [
    {
     "data": {
      "text/plain": [
       "['Pinkfong']"
      ]
     },
     "execution_count": 40,
     "metadata": {},
     "output_type": "execute_result"
    }
   ],
   "source": [
    "artist=driver.find_elements_by_xpath('//table[@class=\"wikitable sortable jquery-tablesorter\"]/tbody/tr[1]/td[3]/a')\n",
    "for i in artist:\n",
    "    artist=i.text\n",
    "    Artist.append(artist)\n",
    "Artist[0:4] "
   ]
  },
  {
   "cell_type": "code",
   "execution_count": 42,
   "metadata": {},
   "outputs": [
    {
     "data": {
      "text/plain": [
       "['June 17, 2016', 'November 2, 2020']"
      ]
     },
     "execution_count": 42,
     "metadata": {},
     "output_type": "execute_result"
    }
   ],
   "source": [
    "date=driver.find_elements_by_xpath('//table[@class=\"wikitable sortable jquery-tablesorter\"]/tbody/tr[1]/td[5]')\n",
    "for i in date:\n",
    "    date=i.text\n",
    "    Upload_date.append(date)\n",
    "Upload_date[0:4] "
   ]
  },
  {
   "cell_type": "code",
   "execution_count": 43,
   "metadata": {},
   "outputs": [
    {
     "data": {
      "text/plain": [
       "['8.09', 'June 17, 2016']"
      ]
     },
     "execution_count": 43,
     "metadata": {},
     "output_type": "execute_result"
    }
   ],
   "source": [
    "view=driver.find_elements_by_xpath('//table[@class=\"wikitable sortable jquery-tablesorter\"]/tbody/tr[1]/td[4]')\n",
    "for i in view:\n",
    "    view=i.text\n",
    "    Views.append(view)\n",
    "Views[0:4] "
   ]
  },
  {
   "cell_type": "code",
   "execution_count": 44,
   "metadata": {},
   "outputs": [
    {
     "name": "stdout",
     "output_type": "stream",
     "text": [
      "2 1 2 2\n"
     ]
    }
   ],
   "source": [
    "print(len(Name),len(Artist),len(Upload_date),len(Views))"
   ]
  },
  {
   "cell_type": "markdown",
   "metadata": {},
   "source": [
    "2. Scrape the details team India’s international fixtures from bcci.tv.\n",
    "Url = https://www.bcci.tv/.\n",
    "You need to find following details:\n",
    "A) Match title (I.e. 1st ODI)\n",
    "B) Series\n",
    "C) Place\n",
    "D) Date\n",
    "E) Time\n",
    "Note: - From bcci.tv home page you have reach to the international fixture page through code."
   ]
  },
  {
   "cell_type": "code",
   "execution_count": 48,
   "metadata": {},
   "outputs": [],
   "source": [
    "#initialising driver\n",
    "driver=webdriver.Chrome(\"C:\\Web driver\\\\chromedriver.exe\")\n",
    "driver.get('https://www.bcci.tv/')"
   ]
  },
  {
   "cell_type": "code",
   "execution_count": 50,
   "metadata": {},
   "outputs": [],
   "source": [
    "#to click on drop down menu\n",
    "button = driver.find_element_by_xpath('//button[@class=\"navigation__header-button menu-button js-navigation-menu-button\"]')\n",
    "button.click()"
   ]
  },
  {
   "cell_type": "code",
   "execution_count": 9,
   "metadata": {},
   "outputs": [],
   "source": [
    "#to select international option\n",
    "int_button=driver.find_element_by_xpath('//div[@class=\"navigation__link navigation__link--has-drop-down js-navigation-link drop-down-open\"]')\n",
    "int_button.click()"
   ]
  },
  {
   "cell_type": "code",
   "execution_count": 10,
   "metadata": {},
   "outputs": [],
   "source": [
    "#to select fixtures option\n",
    "fixt_button=driver.find_element_by_xpath('//a[@class=\"navigation__link navigation__link--in-drop-down\"]')\n",
    "fixt_button.click()"
   ]
  },
  {
   "cell_type": "code",
   "execution_count": 11,
   "metadata": {},
   "outputs": [],
   "source": [
    "# creating empty lists for scraping data\n",
    "Match_title=[]\n",
    "Series=[]\n",
    "Place=[]\n",
    "Date=[]\n",
    "Time=[]"
   ]
  },
  {
   "cell_type": "code",
   "execution_count": 12,
   "metadata": {},
   "outputs": [
    {
     "data": {
      "text/plain": [
       "['1st T20I', '2nd T20I', '3rd T20I', '4th T20I']"
      ]
     },
     "execution_count": 12,
     "metadata": {},
     "output_type": "execute_result"
    }
   ],
   "source": [
    "#scraping the match title\n",
    "title=driver.find_elements_by_xpath('//strong[@class=\"fixture__name fixture__name--with-margin\"]')\n",
    "for i in title:\n",
    "    title=i.text\n",
    "    Match_title.append(title)\n",
    "\n",
    "Match_title[0:4] "
   ]
  },
  {
   "cell_type": "code",
   "execution_count": 13,
   "metadata": {},
   "outputs": [
    {
     "data": {
      "text/plain": [
       "['T20I', 'T20I', 'T20I', 'T20I']"
      ]
     },
     "execution_count": 13,
     "metadata": {},
     "output_type": "execute_result"
    }
   ],
   "source": [
    "#scraping the series\n",
    "series=driver.find_elements_by_xpath('//span[@class=\"u-unskewed-text fixture__format\"]')\n",
    "for i in series:\n",
    "    series=i.text\n",
    "    Series.append(series)\n",
    "\n",
    "Series[0:4] "
   ]
  },
  {
   "cell_type": "code",
   "execution_count": 14,
   "metadata": {},
   "outputs": [
    {
     "data": {
      "text/plain": [
       "['Narendra Modi Stadium, Ahmedabad',\n",
       " 'Narendra Modi Stadium, Ahmedabad',\n",
       " 'Narendra Modi Stadium, Ahmedabad',\n",
       " 'Narendra Modi Stadium, Ahmedabad']"
      ]
     },
     "execution_count": 14,
     "metadata": {},
     "output_type": "execute_result"
    }
   ],
   "source": [
    "#scraping the place\n",
    "place=driver.find_elements_by_xpath('//p[@class=\"fixture__additional-info\"]/span')\n",
    "for i in place:\n",
    "    place=i.text\n",
    "    Place.append(place)\n",
    "\n",
    "Place[0:4] "
   ]
  },
  {
   "cell_type": "code",
   "execution_count": 15,
   "metadata": {},
   "outputs": [
    {
     "data": {
      "text/plain": [
       "['Friday 12 March', 'Sunday 14 March', 'Tuesday 16 March', 'Thursday 18 March']"
      ]
     },
     "execution_count": 15,
     "metadata": {},
     "output_type": "execute_result"
    }
   ],
   "source": [
    "#scraping the date\n",
    "date=driver.find_elements_by_xpath('//span[@class=\"fixture__datetime tablet-only\"]/strong')\n",
    "for i in date:\n",
    "    date=i.text\n",
    "    Date.append(date)\n",
    "\n",
    "Date[0:4] "
   ]
  },
  {
   "cell_type": "code",
   "execution_count": 16,
   "metadata": {},
   "outputs": [
    {
     "data": {
      "text/plain": [
       "['Friday 12 March 19:00 IST',\n",
       " 'Sunday 14 March 19:00 IST',\n",
       " 'Tuesday 16 March 19:00 IST',\n",
       " 'Thursday 18 March 19:00 IST']"
      ]
     },
     "execution_count": 16,
     "metadata": {},
     "output_type": "execute_result"
    }
   ],
   "source": [
    "#scraping the time\n",
    "time=driver.find_elements_by_xpath('//span[@class=\"fixture__datetime tablet-only\"]')\n",
    "for i in time:\n",
    "    time=i.text\n",
    "    Time.append(time)\n",
    "\n",
    "Time[0:4]"
   ]
  },
  {
   "cell_type": "code",
   "execution_count": 17,
   "metadata": {},
   "outputs": [
    {
     "name": "stdout",
     "output_type": "stream",
     "text": [
      "13 13 13 13 13\n"
     ]
    }
   ],
   "source": [
    "print(len(Match_title),len(Series),len(Place),len(Date),len(Time))"
   ]
  },
  {
   "cell_type": "code",
   "execution_count": 20,
   "metadata": {},
   "outputs": [
    {
     "data": {
      "text/html": [
       "<div>\n",
       "<style scoped>\n",
       "    .dataframe tbody tr th:only-of-type {\n",
       "        vertical-align: middle;\n",
       "    }\n",
       "\n",
       "    .dataframe tbody tr th {\n",
       "        vertical-align: top;\n",
       "    }\n",
       "\n",
       "    .dataframe thead th {\n",
       "        text-align: right;\n",
       "    }\n",
       "</style>\n",
       "<table border=\"1\" class=\"dataframe\">\n",
       "  <thead>\n",
       "    <tr style=\"text-align: right;\">\n",
       "      <th></th>\n",
       "      <th>Match_title</th>\n",
       "      <th>Series</th>\n",
       "      <th>Place</th>\n",
       "      <th>Time</th>\n",
       "      <th>Date</th>\n",
       "    </tr>\n",
       "  </thead>\n",
       "  <tbody>\n",
       "    <tr>\n",
       "      <th>0</th>\n",
       "      <td>1st T20I</td>\n",
       "      <td>T20I</td>\n",
       "      <td>Narendra Modi Stadium, Ahmedabad</td>\n",
       "      <td>Friday 12 March 19:00 IST</td>\n",
       "      <td>Friday 12 March</td>\n",
       "    </tr>\n",
       "    <tr>\n",
       "      <th>1</th>\n",
       "      <td>2nd T20I</td>\n",
       "      <td>T20I</td>\n",
       "      <td>Narendra Modi Stadium, Ahmedabad</td>\n",
       "      <td>Sunday 14 March 19:00 IST</td>\n",
       "      <td>Sunday 14 March</td>\n",
       "    </tr>\n",
       "    <tr>\n",
       "      <th>2</th>\n",
       "      <td>3rd T20I</td>\n",
       "      <td>T20I</td>\n",
       "      <td>Narendra Modi Stadium, Ahmedabad</td>\n",
       "      <td>Tuesday 16 March 19:00 IST</td>\n",
       "      <td>Tuesday 16 March</td>\n",
       "    </tr>\n",
       "    <tr>\n",
       "      <th>3</th>\n",
       "      <td>4th T20I</td>\n",
       "      <td>T20I</td>\n",
       "      <td>Narendra Modi Stadium, Ahmedabad</td>\n",
       "      <td>Thursday 18 March 19:00 IST</td>\n",
       "      <td>Thursday 18 March</td>\n",
       "    </tr>\n",
       "    <tr>\n",
       "      <th>4</th>\n",
       "      <td>5th T20I</td>\n",
       "      <td>T20I</td>\n",
       "      <td>Narendra Modi Stadium, Ahmedabad</td>\n",
       "      <td>Saturday 20 March 19:00 IST</td>\n",
       "      <td>Saturday 20 March</td>\n",
       "    </tr>\n",
       "    <tr>\n",
       "      <th>5</th>\n",
       "      <td>1st ODI</td>\n",
       "      <td>ODI</td>\n",
       "      <td>Maharashtra Cricket Association Stadium, Pune</td>\n",
       "      <td>Tuesday 23 March 13:30 IST</td>\n",
       "      <td>Tuesday 23 March</td>\n",
       "    </tr>\n",
       "    <tr>\n",
       "      <th>6</th>\n",
       "      <td>2nd ODI</td>\n",
       "      <td>ODI</td>\n",
       "      <td>Maharashtra Cricket Association Stadium, Pune</td>\n",
       "      <td>Friday 26 March 13:30 IST</td>\n",
       "      <td>Friday 26 March</td>\n",
       "    </tr>\n",
       "    <tr>\n",
       "      <th>7</th>\n",
       "      <td>3rd ODI</td>\n",
       "      <td>ODI</td>\n",
       "      <td>Maharashtra Cricket Association Stadium, Pune</td>\n",
       "      <td>Sunday 28 March 13:30 IST</td>\n",
       "      <td>Sunday 28 March</td>\n",
       "    </tr>\n",
       "    <tr>\n",
       "      <th>8</th>\n",
       "      <td>1st Test</td>\n",
       "      <td>TEST</td>\n",
       "      <td>Trent Bridge, Nottingham</td>\n",
       "      <td>Wednesday 4 August 15:30 IST</td>\n",
       "      <td>Wednesday 4 August</td>\n",
       "    </tr>\n",
       "    <tr>\n",
       "      <th>9</th>\n",
       "      <td>2nd Test</td>\n",
       "      <td>TEST</td>\n",
       "      <td>Lord's, London</td>\n",
       "      <td>Thursday 12 August 15:30 IST</td>\n",
       "      <td>Thursday 12 August</td>\n",
       "    </tr>\n",
       "    <tr>\n",
       "      <th>10</th>\n",
       "      <td>3rd Test</td>\n",
       "      <td>TEST</td>\n",
       "      <td>Headingley, Leeds</td>\n",
       "      <td>Wednesday 25 August 15:30 IST</td>\n",
       "      <td>Wednesday 25 August</td>\n",
       "    </tr>\n",
       "    <tr>\n",
       "      <th>11</th>\n",
       "      <td>4th Test</td>\n",
       "      <td>TEST</td>\n",
       "      <td>The Oval, London</td>\n",
       "      <td>Thursday 2 September 15:30 IST</td>\n",
       "      <td>Thursday 2 September</td>\n",
       "    </tr>\n",
       "    <tr>\n",
       "      <th>12</th>\n",
       "      <td>5th Test</td>\n",
       "      <td>TEST</td>\n",
       "      <td>Old Trafford, Manchester</td>\n",
       "      <td>Friday 10 September 15:30 IST</td>\n",
       "      <td>Friday 10 September</td>\n",
       "    </tr>\n",
       "  </tbody>\n",
       "</table>\n",
       "</div>"
      ],
      "text/plain": [
       "   Match_title Series                                          Place  \\\n",
       "0     1st T20I   T20I               Narendra Modi Stadium, Ahmedabad   \n",
       "1     2nd T20I   T20I               Narendra Modi Stadium, Ahmedabad   \n",
       "2     3rd T20I   T20I               Narendra Modi Stadium, Ahmedabad   \n",
       "3     4th T20I   T20I               Narendra Modi Stadium, Ahmedabad   \n",
       "4     5th T20I   T20I               Narendra Modi Stadium, Ahmedabad   \n",
       "5      1st ODI    ODI  Maharashtra Cricket Association Stadium, Pune   \n",
       "6      2nd ODI    ODI  Maharashtra Cricket Association Stadium, Pune   \n",
       "7      3rd ODI    ODI  Maharashtra Cricket Association Stadium, Pune   \n",
       "8     1st Test   TEST                       Trent Bridge, Nottingham   \n",
       "9     2nd Test   TEST                                 Lord's, London   \n",
       "10    3rd Test   TEST                              Headingley, Leeds   \n",
       "11    4th Test   TEST                               The Oval, London   \n",
       "12    5th Test   TEST                       Old Trafford, Manchester   \n",
       "\n",
       "                              Time                  Date  \n",
       "0        Friday 12 March 19:00 IST       Friday 12 March  \n",
       "1        Sunday 14 March 19:00 IST       Sunday 14 March  \n",
       "2       Tuesday 16 March 19:00 IST      Tuesday 16 March  \n",
       "3      Thursday 18 March 19:00 IST     Thursday 18 March  \n",
       "4      Saturday 20 March 19:00 IST     Saturday 20 March  \n",
       "5       Tuesday 23 March 13:30 IST      Tuesday 23 March  \n",
       "6        Friday 26 March 13:30 IST       Friday 26 March  \n",
       "7        Sunday 28 March 13:30 IST       Sunday 28 March  \n",
       "8     Wednesday 4 August 15:30 IST    Wednesday 4 August  \n",
       "9     Thursday 12 August 15:30 IST    Thursday 12 August  \n",
       "10   Wednesday 25 August 15:30 IST   Wednesday 25 August  \n",
       "11  Thursday 2 September 15:30 IST  Thursday 2 September  \n",
       "12   Friday 10 September 15:30 IST   Friday 10 September  "
      ]
     },
     "execution_count": 20,
     "metadata": {},
     "output_type": "execute_result"
    }
   ],
   "source": [
    "df=pd.DataFrame({\"Match_title\":Match_title[0:13],\"Series\":Series[0:13],\"Place\":Place[0:13],\"Time\":Time[0:13],\n",
    "                \"Date\":Date[0:13]})\n",
    "df"
   ]
  },
  {
   "cell_type": "code",
   "execution_count": null,
   "metadata": {},
   "outputs": [],
   "source": []
  },
  {
   "cell_type": "markdown",
   "metadata": {},
   "source": [
    "3. Scrape the details of selenium exception from guru99.com.\n",
    "Url = https://www.guru99.com/\n",
    "You need to find following details:\n",
    "A) Name\n",
    "B) Description\n",
    "Note: - From guru99 home page you have to reach to selenium exception handling page through code."
   ]
  },
  {
   "cell_type": "code",
   "execution_count": 2,
   "metadata": {},
   "outputs": [],
   "source": [
    "#initialising driver\n",
    "driver=webdriver.Chrome(\"C:\\Web driver\\\\chromedriver.exe\")\n",
    "driver.get('https://www.guru99.com/')"
   ]
  },
  {
   "cell_type": "code",
   "execution_count": 3,
   "metadata": {},
   "outputs": [],
   "source": [
    "#select selenium from tutorial library\n",
    "sel=driver.find_element_by_xpath('//li[@class=\"fa fa-chevron-circle-right\"]/a')\n",
    "sel.click()"
   ]
  },
  {
   "cell_type": "code",
   "execution_count": 6,
   "metadata": {},
   "outputs": [
    {
     "ename": "NoSuchElementException",
     "evalue": "Message: no such element: Unable to locate element: {\"method\":\"xpath\",\"selector\":\"//div[@class=\"span12\"]/table[5]/tbody/tr[34]\"}\n  (Session info: chrome=88.0.4324.190)\n",
     "output_type": "error",
     "traceback": [
      "\u001b[1;31m---------------------------------------------------------------------------\u001b[0m",
      "\u001b[1;31mNoSuchElementException\u001b[0m                    Traceback (most recent call last)",
      "\u001b[1;32m<ipython-input-6-5ec51746db7e>\u001b[0m in \u001b[0;36m<module>\u001b[1;34m\u001b[0m\n\u001b[0;32m      1\u001b[0m \u001b[1;31m#for searching selenium exception handling\u001b[0m\u001b[1;33m\u001b[0m\u001b[1;33m\u001b[0m\u001b[1;33m\u001b[0m\u001b[0m\n\u001b[1;32m----> 2\u001b[1;33m \u001b[0msearch\u001b[0m\u001b[1;33m=\u001b[0m\u001b[0mdriver\u001b[0m\u001b[1;33m.\u001b[0m\u001b[0mfind_element_by_xpath\u001b[0m\u001b[1;33m(\u001b[0m\u001b[1;34m'//div[@class=\"span12\"]/table[5]/tbody/tr[34]'\u001b[0m\u001b[1;33m)\u001b[0m\u001b[1;33m\u001b[0m\u001b[1;33m\u001b[0m\u001b[0m\n\u001b[0m\u001b[0;32m      3\u001b[0m \u001b[0msearch\u001b[0m\u001b[1;33m.\u001b[0m\u001b[0mclick\u001b[0m\u001b[1;33m(\u001b[0m\u001b[1;33m)\u001b[0m\u001b[1;33m\u001b[0m\u001b[1;33m\u001b[0m\u001b[0m\n",
      "\u001b[1;32m~\\anaconda3\\lib\\site-packages\\selenium\\webdriver\\remote\\webdriver.py\u001b[0m in \u001b[0;36mfind_element_by_xpath\u001b[1;34m(self, xpath)\u001b[0m\n\u001b[0;32m    392\u001b[0m             \u001b[0melement\u001b[0m \u001b[1;33m=\u001b[0m \u001b[0mdriver\u001b[0m\u001b[1;33m.\u001b[0m\u001b[0mfind_element_by_xpath\u001b[0m\u001b[1;33m(\u001b[0m\u001b[1;34m'//div/td[1]'\u001b[0m\u001b[1;33m)\u001b[0m\u001b[1;33m\u001b[0m\u001b[1;33m\u001b[0m\u001b[0m\n\u001b[0;32m    393\u001b[0m         \"\"\"\n\u001b[1;32m--> 394\u001b[1;33m         \u001b[1;32mreturn\u001b[0m \u001b[0mself\u001b[0m\u001b[1;33m.\u001b[0m\u001b[0mfind_element\u001b[0m\u001b[1;33m(\u001b[0m\u001b[0mby\u001b[0m\u001b[1;33m=\u001b[0m\u001b[0mBy\u001b[0m\u001b[1;33m.\u001b[0m\u001b[0mXPATH\u001b[0m\u001b[1;33m,\u001b[0m \u001b[0mvalue\u001b[0m\u001b[1;33m=\u001b[0m\u001b[0mxpath\u001b[0m\u001b[1;33m)\u001b[0m\u001b[1;33m\u001b[0m\u001b[1;33m\u001b[0m\u001b[0m\n\u001b[0m\u001b[0;32m    395\u001b[0m \u001b[1;33m\u001b[0m\u001b[0m\n\u001b[0;32m    396\u001b[0m     \u001b[1;32mdef\u001b[0m \u001b[0mfind_elements_by_xpath\u001b[0m\u001b[1;33m(\u001b[0m\u001b[0mself\u001b[0m\u001b[1;33m,\u001b[0m \u001b[0mxpath\u001b[0m\u001b[1;33m)\u001b[0m\u001b[1;33m:\u001b[0m\u001b[1;33m\u001b[0m\u001b[1;33m\u001b[0m\u001b[0m\n",
      "\u001b[1;32m~\\anaconda3\\lib\\site-packages\\selenium\\webdriver\\remote\\webdriver.py\u001b[0m in \u001b[0;36mfind_element\u001b[1;34m(self, by, value)\u001b[0m\n\u001b[0;32m    974\u001b[0m                 \u001b[0mby\u001b[0m \u001b[1;33m=\u001b[0m \u001b[0mBy\u001b[0m\u001b[1;33m.\u001b[0m\u001b[0mCSS_SELECTOR\u001b[0m\u001b[1;33m\u001b[0m\u001b[1;33m\u001b[0m\u001b[0m\n\u001b[0;32m    975\u001b[0m                 \u001b[0mvalue\u001b[0m \u001b[1;33m=\u001b[0m \u001b[1;34m'[name=\"%s\"]'\u001b[0m \u001b[1;33m%\u001b[0m \u001b[0mvalue\u001b[0m\u001b[1;33m\u001b[0m\u001b[1;33m\u001b[0m\u001b[0m\n\u001b[1;32m--> 976\u001b[1;33m         return self.execute(Command.FIND_ELEMENT, {\n\u001b[0m\u001b[0;32m    977\u001b[0m             \u001b[1;34m'using'\u001b[0m\u001b[1;33m:\u001b[0m \u001b[0mby\u001b[0m\u001b[1;33m,\u001b[0m\u001b[1;33m\u001b[0m\u001b[1;33m\u001b[0m\u001b[0m\n\u001b[0;32m    978\u001b[0m             'value': value})['value']\n",
      "\u001b[1;32m~\\anaconda3\\lib\\site-packages\\selenium\\webdriver\\remote\\webdriver.py\u001b[0m in \u001b[0;36mexecute\u001b[1;34m(self, driver_command, params)\u001b[0m\n\u001b[0;32m    319\u001b[0m         \u001b[0mresponse\u001b[0m \u001b[1;33m=\u001b[0m \u001b[0mself\u001b[0m\u001b[1;33m.\u001b[0m\u001b[0mcommand_executor\u001b[0m\u001b[1;33m.\u001b[0m\u001b[0mexecute\u001b[0m\u001b[1;33m(\u001b[0m\u001b[0mdriver_command\u001b[0m\u001b[1;33m,\u001b[0m \u001b[0mparams\u001b[0m\u001b[1;33m)\u001b[0m\u001b[1;33m\u001b[0m\u001b[1;33m\u001b[0m\u001b[0m\n\u001b[0;32m    320\u001b[0m         \u001b[1;32mif\u001b[0m \u001b[0mresponse\u001b[0m\u001b[1;33m:\u001b[0m\u001b[1;33m\u001b[0m\u001b[1;33m\u001b[0m\u001b[0m\n\u001b[1;32m--> 321\u001b[1;33m             \u001b[0mself\u001b[0m\u001b[1;33m.\u001b[0m\u001b[0merror_handler\u001b[0m\u001b[1;33m.\u001b[0m\u001b[0mcheck_response\u001b[0m\u001b[1;33m(\u001b[0m\u001b[0mresponse\u001b[0m\u001b[1;33m)\u001b[0m\u001b[1;33m\u001b[0m\u001b[1;33m\u001b[0m\u001b[0m\n\u001b[0m\u001b[0;32m    322\u001b[0m             response['value'] = self._unwrap_value(\n\u001b[0;32m    323\u001b[0m                 response.get('value', None))\n",
      "\u001b[1;32m~\\anaconda3\\lib\\site-packages\\selenium\\webdriver\\remote\\errorhandler.py\u001b[0m in \u001b[0;36mcheck_response\u001b[1;34m(self, response)\u001b[0m\n\u001b[0;32m    240\u001b[0m                 \u001b[0malert_text\u001b[0m \u001b[1;33m=\u001b[0m \u001b[0mvalue\u001b[0m\u001b[1;33m[\u001b[0m\u001b[1;34m'alert'\u001b[0m\u001b[1;33m]\u001b[0m\u001b[1;33m.\u001b[0m\u001b[0mget\u001b[0m\u001b[1;33m(\u001b[0m\u001b[1;34m'text'\u001b[0m\u001b[1;33m)\u001b[0m\u001b[1;33m\u001b[0m\u001b[1;33m\u001b[0m\u001b[0m\n\u001b[0;32m    241\u001b[0m             \u001b[1;32mraise\u001b[0m \u001b[0mexception_class\u001b[0m\u001b[1;33m(\u001b[0m\u001b[0mmessage\u001b[0m\u001b[1;33m,\u001b[0m \u001b[0mscreen\u001b[0m\u001b[1;33m,\u001b[0m \u001b[0mstacktrace\u001b[0m\u001b[1;33m,\u001b[0m \u001b[0malert_text\u001b[0m\u001b[1;33m)\u001b[0m\u001b[1;33m\u001b[0m\u001b[1;33m\u001b[0m\u001b[0m\n\u001b[1;32m--> 242\u001b[1;33m         \u001b[1;32mraise\u001b[0m \u001b[0mexception_class\u001b[0m\u001b[1;33m(\u001b[0m\u001b[0mmessage\u001b[0m\u001b[1;33m,\u001b[0m \u001b[0mscreen\u001b[0m\u001b[1;33m,\u001b[0m \u001b[0mstacktrace\u001b[0m\u001b[1;33m)\u001b[0m\u001b[1;33m\u001b[0m\u001b[1;33m\u001b[0m\u001b[0m\n\u001b[0m\u001b[0;32m    243\u001b[0m \u001b[1;33m\u001b[0m\u001b[0m\n\u001b[0;32m    244\u001b[0m     \u001b[1;32mdef\u001b[0m \u001b[0m_value_or_default\u001b[0m\u001b[1;33m(\u001b[0m\u001b[0mself\u001b[0m\u001b[1;33m,\u001b[0m \u001b[0mobj\u001b[0m\u001b[1;33m,\u001b[0m \u001b[0mkey\u001b[0m\u001b[1;33m,\u001b[0m \u001b[0mdefault\u001b[0m\u001b[1;33m)\u001b[0m\u001b[1;33m:\u001b[0m\u001b[1;33m\u001b[0m\u001b[1;33m\u001b[0m\u001b[0m\n",
      "\u001b[1;31mNoSuchElementException\u001b[0m: Message: no such element: Unable to locate element: {\"method\":\"xpath\",\"selector\":\"//div[@class=\"span12\"]/table[5]/tbody/tr[34]\"}\n  (Session info: chrome=88.0.4324.190)\n"
     ]
    }
   ],
   "source": [
    "#for searching selenium exception handling\n",
    "search=driver.find_element_by_xpath('//div[@class=\"span12\"]/table[5]/tbody/tr[34]')\n",
    "search.click()"
   ]
  },
  {
   "cell_type": "code",
   "execution_count": null,
   "metadata": {},
   "outputs": [],
   "source": []
  },
  {
   "cell_type": "code",
   "execution_count": null,
   "metadata": {},
   "outputs": [],
   "source": []
  },
  {
   "cell_type": "markdown",
   "metadata": {},
   "source": [
    "4. Scrape the details of State-wise GDP of India from statisticstime.com.\n",
    "Url = http://statisticstimes.com/\n",
    "You have to find following details:\n",
    "A) Rank\n",
    "B) State\n",
    "C) GSDP(18-19)\n",
    "D) GSDP(17-18)\n",
    "E) Share(2017)\n",
    "F) GDP($ billion)\n",
    "Note: - From statisticstimes home page you have to reach to economy page through code."
   ]
  },
  {
   "cell_type": "code",
   "execution_count": 7,
   "metadata": {},
   "outputs": [],
   "source": [
    "#initialising driver\n",
    "driver=webdriver.Chrome(\"C:\\Web driver\\\\chromedriver.exe\")\n",
    "driver.get('http://statisticstimes.com/ ')"
   ]
  },
  {
   "cell_type": "code",
   "execution_count": 58,
   "metadata": {},
   "outputs": [],
   "source": [
    "#to select economy drop down menu\n",
    "button = driver.find_element_by_xpath('//div[@class=\"navbar\"]/div[2]/button')\n",
    "button.click()"
   ]
  },
  {
   "cell_type": "code",
   "execution_count": 59,
   "metadata": {},
   "outputs": [],
   "source": [
    "#to select india\n",
    "button2 = driver.find_element_by_xpath('//div[@class=\"dropdown-content\"]/a[3]')\n",
    "button.click()"
   ]
  },
  {
   "cell_type": "code",
   "execution_count": 60,
   "metadata": {},
   "outputs": [],
   "source": [
    "#to select GDP of Indian states\n",
    "gdp_but = driver.find_element_by_xpath('//a[@class=\"ec\"]')\n",
    "gdp_but.click()"
   ]
  },
  {
   "cell_type": "code",
   "execution_count": 10,
   "metadata": {},
   "outputs": [],
   "source": [
    "GDP = {}\n",
    "GDP['state'] = []\n",
    "GDP['GSDP_19-20'] = []\n",
    "GDP['GSDP_18-19'] = []\n",
    "GDP['share 2017'] = []\n",
    "GDP['gdp'] = []"
   ]
  },
  {
   "cell_type": "code",
   "execution_count": 11,
   "metadata": {},
   "outputs": [
    {
     "data": {
      "text/html": [
       "<div>\n",
       "<style scoped>\n",
       "    .dataframe tbody tr th:only-of-type {\n",
       "        vertical-align: middle;\n",
       "    }\n",
       "\n",
       "    .dataframe tbody tr th {\n",
       "        vertical-align: top;\n",
       "    }\n",
       "\n",
       "    .dataframe thead th {\n",
       "        text-align: right;\n",
       "    }\n",
       "</style>\n",
       "<table border=\"1\" class=\"dataframe\">\n",
       "  <thead>\n",
       "    <tr style=\"text-align: right;\">\n",
       "      <th></th>\n",
       "      <th>state</th>\n",
       "      <th>GSDP_19-20</th>\n",
       "      <th>GSDP_18-19</th>\n",
       "      <th>share 2017</th>\n",
       "      <th>gdp</th>\n",
       "    </tr>\n",
       "  </thead>\n",
       "  <tbody>\n",
       "    <tr>\n",
       "      <th>0</th>\n",
       "      <td>Maharashtra</td>\n",
       "      <td>-</td>\n",
       "      <td>2,632,792</td>\n",
       "      <td>13.88%</td>\n",
       "      <td>398.145</td>\n",
       "    </tr>\n",
       "    <tr>\n",
       "      <th>1</th>\n",
       "      <td>Tamil Nadu</td>\n",
       "      <td>1,845,853</td>\n",
       "      <td>1,630,208</td>\n",
       "      <td>8.59%</td>\n",
       "      <td>246.529</td>\n",
       "    </tr>\n",
       "    <tr>\n",
       "      <th>2</th>\n",
       "      <td>Uttar Pradesh</td>\n",
       "      <td>1,687,818</td>\n",
       "      <td>1,584,764</td>\n",
       "      <td>8.35%</td>\n",
       "      <td>239.656</td>\n",
       "    </tr>\n",
       "    <tr>\n",
       "      <th>3</th>\n",
       "      <td>Gujarat</td>\n",
       "      <td>-</td>\n",
       "      <td>1,502,899</td>\n",
       "      <td>7.92%</td>\n",
       "      <td>227.276</td>\n",
       "    </tr>\n",
       "    <tr>\n",
       "      <th>4</th>\n",
       "      <td>Karnataka</td>\n",
       "      <td>1,631,977</td>\n",
       "      <td>1,493,127</td>\n",
       "      <td>7.87%</td>\n",
       "      <td>225.798</td>\n",
       "    </tr>\n",
       "    <tr>\n",
       "      <th>5</th>\n",
       "      <td>West Bengal</td>\n",
       "      <td>1,253,832</td>\n",
       "      <td>1,089,898</td>\n",
       "      <td>5.75%</td>\n",
       "      <td>164.820</td>\n",
       "    </tr>\n",
       "    <tr>\n",
       "      <th>6</th>\n",
       "      <td>Rajasthan</td>\n",
       "      <td>1,020,989</td>\n",
       "      <td>942,586</td>\n",
       "      <td>4.97%</td>\n",
       "      <td>142.543</td>\n",
       "    </tr>\n",
       "    <tr>\n",
       "      <th>7</th>\n",
       "      <td>Andhra Pradesh</td>\n",
       "      <td>972,782</td>\n",
       "      <td>862,957</td>\n",
       "      <td>4.55%</td>\n",
       "      <td>130.501</td>\n",
       "    </tr>\n",
       "    <tr>\n",
       "      <th>8</th>\n",
       "      <td>Telangana</td>\n",
       "      <td>969,604</td>\n",
       "      <td>861,031</td>\n",
       "      <td>4.54%</td>\n",
       "      <td>130.210</td>\n",
       "    </tr>\n",
       "    <tr>\n",
       "      <th>9</th>\n",
       "      <td>Madhya Pradesh</td>\n",
       "      <td>906,672</td>\n",
       "      <td>809,592</td>\n",
       "      <td>4.27%</td>\n",
       "      <td>122.431</td>\n",
       "    </tr>\n",
       "    <tr>\n",
       "      <th>10</th>\n",
       "      <td>Kerala</td>\n",
       "      <td>-</td>\n",
       "      <td>781,653</td>\n",
       "      <td>4.12%</td>\n",
       "      <td>118.206</td>\n",
       "    </tr>\n",
       "    <tr>\n",
       "      <th>11</th>\n",
       "      <td>Delhi</td>\n",
       "      <td>856,112</td>\n",
       "      <td>774,870</td>\n",
       "      <td>4.08%</td>\n",
       "      <td>117.180</td>\n",
       "    </tr>\n",
       "    <tr>\n",
       "      <th>12</th>\n",
       "      <td>Haryana</td>\n",
       "      <td>831,610</td>\n",
       "      <td>734,163</td>\n",
       "      <td>3.87%</td>\n",
       "      <td>111.024</td>\n",
       "    </tr>\n",
       "    <tr>\n",
       "      <th>13</th>\n",
       "      <td>Bihar</td>\n",
       "      <td>611,804</td>\n",
       "      <td>530,363</td>\n",
       "      <td>2.80%</td>\n",
       "      <td>80.204</td>\n",
       "    </tr>\n",
       "    <tr>\n",
       "      <th>14</th>\n",
       "      <td>Punjab</td>\n",
       "      <td>574,760</td>\n",
       "      <td>526,376</td>\n",
       "      <td>2.77%</td>\n",
       "      <td>79.601</td>\n",
       "    </tr>\n",
       "    <tr>\n",
       "      <th>15</th>\n",
       "      <td>Odisha</td>\n",
       "      <td>521,275</td>\n",
       "      <td>487,805</td>\n",
       "      <td>2.57%</td>\n",
       "      <td>73.768</td>\n",
       "    </tr>\n",
       "    <tr>\n",
       "      <th>16</th>\n",
       "      <td>Assam</td>\n",
       "      <td>-</td>\n",
       "      <td>315,881</td>\n",
       "      <td>1.67%</td>\n",
       "      <td>47.769</td>\n",
       "    </tr>\n",
       "    <tr>\n",
       "      <th>17</th>\n",
       "      <td>Chhattisgarh</td>\n",
       "      <td>329,180</td>\n",
       "      <td>304,063</td>\n",
       "      <td>1.60%</td>\n",
       "      <td>45.982</td>\n",
       "    </tr>\n",
       "    <tr>\n",
       "      <th>18</th>\n",
       "      <td>Jharkhand</td>\n",
       "      <td>328,598</td>\n",
       "      <td>297,204</td>\n",
       "      <td>1.57%</td>\n",
       "      <td>44.945</td>\n",
       "    </tr>\n",
       "    <tr>\n",
       "      <th>19</th>\n",
       "      <td>Uttarakhand</td>\n",
       "      <td>-</td>\n",
       "      <td>245,895</td>\n",
       "      <td>1.30%</td>\n",
       "      <td>37.186</td>\n",
       "    </tr>\n",
       "    <tr>\n",
       "      <th>20</th>\n",
       "      <td>Jammu &amp; Kashmir</td>\n",
       "      <td>-</td>\n",
       "      <td>155,956</td>\n",
       "      <td>0.82%</td>\n",
       "      <td>23.584</td>\n",
       "    </tr>\n",
       "    <tr>\n",
       "      <th>21</th>\n",
       "      <td>Himachal Pradesh</td>\n",
       "      <td>165,472</td>\n",
       "      <td>153,845</td>\n",
       "      <td>0.81%</td>\n",
       "      <td>23.265</td>\n",
       "    </tr>\n",
       "    <tr>\n",
       "      <th>22</th>\n",
       "      <td>Goa</td>\n",
       "      <td>80,449</td>\n",
       "      <td>73,170</td>\n",
       "      <td>0.39%</td>\n",
       "      <td>11.065</td>\n",
       "    </tr>\n",
       "    <tr>\n",
       "      <th>23</th>\n",
       "      <td>Tripura</td>\n",
       "      <td>55,984</td>\n",
       "      <td>49,845</td>\n",
       "      <td>0.26%</td>\n",
       "      <td>7.538</td>\n",
       "    </tr>\n",
       "    <tr>\n",
       "      <th>24</th>\n",
       "      <td>Chandigarh</td>\n",
       "      <td>-</td>\n",
       "      <td>42,114</td>\n",
       "      <td>0.22%</td>\n",
       "      <td>6.369</td>\n",
       "    </tr>\n",
       "    <tr>\n",
       "      <th>25</th>\n",
       "      <td>Puducherry</td>\n",
       "      <td>38,253</td>\n",
       "      <td>34,433</td>\n",
       "      <td>0.18%</td>\n",
       "      <td>5.207</td>\n",
       "    </tr>\n",
       "    <tr>\n",
       "      <th>26</th>\n",
       "      <td>Meghalaya</td>\n",
       "      <td>36,572</td>\n",
       "      <td>33,481</td>\n",
       "      <td>0.18%</td>\n",
       "      <td>5.063</td>\n",
       "    </tr>\n",
       "    <tr>\n",
       "      <th>27</th>\n",
       "      <td>Sikkim</td>\n",
       "      <td>32,496</td>\n",
       "      <td>28,723</td>\n",
       "      <td>0.15%</td>\n",
       "      <td>4.344</td>\n",
       "    </tr>\n",
       "    <tr>\n",
       "      <th>28</th>\n",
       "      <td>Manipur</td>\n",
       "      <td>31,790</td>\n",
       "      <td>27,870</td>\n",
       "      <td>0.15%</td>\n",
       "      <td>4.215</td>\n",
       "    </tr>\n",
       "    <tr>\n",
       "      <th>29</th>\n",
       "      <td>Nagaland</td>\n",
       "      <td>-</td>\n",
       "      <td>27,283</td>\n",
       "      <td>0.14%</td>\n",
       "      <td>4.126</td>\n",
       "    </tr>\n",
       "    <tr>\n",
       "      <th>30</th>\n",
       "      <td>Arunachal Pradesh</td>\n",
       "      <td>-</td>\n",
       "      <td>24,603</td>\n",
       "      <td>0.13%</td>\n",
       "      <td>3.721</td>\n",
       "    </tr>\n",
       "    <tr>\n",
       "      <th>31</th>\n",
       "      <td>Mizoram</td>\n",
       "      <td>26,503</td>\n",
       "      <td>22,287</td>\n",
       "      <td>0.12%</td>\n",
       "      <td>3.370</td>\n",
       "    </tr>\n",
       "    <tr>\n",
       "      <th>32</th>\n",
       "      <td>Andaman &amp; Nicobar Islands</td>\n",
       "      <td>-</td>\n",
       "      <td>-</td>\n",
       "      <td>-</td>\n",
       "      <td>-</td>\n",
       "    </tr>\n",
       "  </tbody>\n",
       "</table>\n",
       "</div>"
      ],
      "text/plain": [
       "                        state GSDP_19-20 GSDP_18-19 share 2017      gdp\n",
       "0                 Maharashtra          -  2,632,792     13.88%  398.145\n",
       "1                  Tamil Nadu  1,845,853  1,630,208      8.59%  246.529\n",
       "2               Uttar Pradesh  1,687,818  1,584,764      8.35%  239.656\n",
       "3                     Gujarat          -  1,502,899      7.92%  227.276\n",
       "4                   Karnataka  1,631,977  1,493,127      7.87%  225.798\n",
       "5                 West Bengal  1,253,832  1,089,898      5.75%  164.820\n",
       "6                   Rajasthan  1,020,989    942,586      4.97%  142.543\n",
       "7              Andhra Pradesh    972,782    862,957      4.55%  130.501\n",
       "8                   Telangana    969,604    861,031      4.54%  130.210\n",
       "9              Madhya Pradesh    906,672    809,592      4.27%  122.431\n",
       "10                     Kerala          -    781,653      4.12%  118.206\n",
       "11                      Delhi    856,112    774,870      4.08%  117.180\n",
       "12                    Haryana    831,610    734,163      3.87%  111.024\n",
       "13                      Bihar    611,804    530,363      2.80%   80.204\n",
       "14                     Punjab    574,760    526,376      2.77%   79.601\n",
       "15                     Odisha    521,275    487,805      2.57%   73.768\n",
       "16                      Assam          -    315,881      1.67%   47.769\n",
       "17               Chhattisgarh    329,180    304,063      1.60%   45.982\n",
       "18                  Jharkhand    328,598    297,204      1.57%   44.945\n",
       "19                Uttarakhand          -    245,895      1.30%   37.186\n",
       "20            Jammu & Kashmir          -    155,956      0.82%   23.584\n",
       "21           Himachal Pradesh    165,472    153,845      0.81%   23.265\n",
       "22                        Goa     80,449     73,170      0.39%   11.065\n",
       "23                    Tripura     55,984     49,845      0.26%    7.538\n",
       "24                 Chandigarh          -     42,114      0.22%    6.369\n",
       "25                 Puducherry     38,253     34,433      0.18%    5.207\n",
       "26                  Meghalaya     36,572     33,481      0.18%    5.063\n",
       "27                     Sikkim     32,496     28,723      0.15%    4.344\n",
       "28                    Manipur     31,790     27,870      0.15%    4.215\n",
       "29                   Nagaland          -     27,283      0.14%    4.126\n",
       "30          Arunachal Pradesh          -     24,603      0.13%    3.721\n",
       "31                    Mizoram     26,503     22,287      0.12%    3.370\n",
       "32  Andaman & Nicobar Islands          -          -          -        -"
      ]
     },
     "execution_count": 11,
     "metadata": {},
     "output_type": "execute_result"
    }
   ],
   "source": [
    "# state\n",
    "st = driver.find_elements_by_xpath('//table[@id=\"table_id\"]/tbody/tr/td[2]')\n",
    "for d in st:\n",
    "    GDP['state'].append(d.text)\n",
    "\n",
    "# gsdp 19-20\n",
    "gsdp_1 = driver.find_elements_by_xpath('//table[@id=\"table_id\"]/tbody/tr/td[3]')\n",
    "for n in gsdp_1:\n",
    "    GDP['GSDP_19-20'].append(n.text)\n",
    "    \n",
    "# gsdp 18-19\n",
    "gsdp_2 = driver.find_elements_by_xpath('//table[@id=\"table_id\"]/tbody/tr/td[4]')\n",
    "for m in gsdp_2:\n",
    "    GDP['GSDP_18-19'].append(m.text)\n",
    "    \n",
    "# Share 17\n",
    "share= driver.find_elements_by_xpath('//table[@id=\"table_id\"]/tbody/tr/td[5]')\n",
    "for s in share:\n",
    "    GDP['share 2017'].append(s.text)\n",
    "\n",
    "# gdp\n",
    "gd= driver.find_elements_by_xpath('//table[@id=\"table_id\"]/tbody/tr/td[6]')\n",
    "for l in gd:\n",
    "    GDP['gdp'].append(l.text)\n",
    "    \n",
    "    \n",
    "GDP = pd.DataFrame(GDP)\n",
    "GDP"
   ]
  },
  {
   "cell_type": "code",
   "execution_count": null,
   "metadata": {},
   "outputs": [],
   "source": []
  },
  {
   "cell_type": "markdown",
   "metadata": {},
   "source": [
    "5. Scrape the details of trending repositories on Github.com.\n",
    "Url = https://github.com/\n",
    "You have to find the following details:\n",
    "A) Repository title\n",
    "B) Repository description\n",
    "C) Contributors count\n",
    "D) Language used"
   ]
  },
  {
   "cell_type": "code",
   "execution_count": 22,
   "metadata": {},
   "outputs": [],
   "source": [
    "#initialising driver\n",
    "driver=webdriver.Chrome(\"C:\\Web driver\\\\chromedriver.exe\")\n",
    "driver.get(' https://github.com/ ')"
   ]
  },
  {
   "cell_type": "code",
   "execution_count": 24,
   "metadata": {},
   "outputs": [],
   "source": [
    "#to select trending repository on explore from main menu\n",
    "button = driver.find_element_by_xpath('//button[@class=\"btn-link d-lg-none mt-1 js-details-target\"]')\n",
    "button.click()\n"
   ]
  },
  {
   "cell_type": "code",
   "execution_count": 25,
   "metadata": {},
   "outputs": [],
   "source": [
    "expl=driver.find_element_by_xpath('//summary[@class=\"HeaderMenu-summary HeaderMenu-link px-0 py-3 border-0 no-wrap d-block d-lg-inline-block\"]')\n",
    "expl.click()"
   ]
  },
  {
   "cell_type": "code",
   "execution_count": 26,
   "metadata": {},
   "outputs": [],
   "source": [
    "trend=driver.find_element_by_xpath('//ul[@class=\"list-style-none mb-3\"]/li[3]')\n",
    "expl.click()"
   ]
  },
  {
   "cell_type": "code",
   "execution_count": 27,
   "metadata": {},
   "outputs": [],
   "source": [
    "# creating empty lists for scraping data\n",
    "Repository=[]\n",
    "Title=[]\n",
    "Description=[]\n",
    "Contributors=[]"
   ]
  },
  {
   "cell_type": "code",
   "execution_count": 28,
   "metadata": {},
   "outputs": [
    {
     "data": {
      "text/plain": [
       "['getzola /', 'dolthub /', 'nushell /', 'torvalds /']"
      ]
     },
     "execution_count": 28,
     "metadata": {},
     "output_type": "execute_result"
    }
   ],
   "source": [
    "#scraping the repository\n",
    "rep=driver.find_elements_by_xpath('//span[@class=\"text-normal\"]')\n",
    "for i in rep:\n",
    "    rep=i.text\n",
    "    Repository.append(rep)\n",
    "\n",
    "Repository[0:4] "
   ]
  },
  {
   "cell_type": "code",
   "execution_count": 29,
   "metadata": {},
   "outputs": [
    {
     "data": {
      "text/plain": [
       "['getzola / zola', 'dolthub / dolt', 'nushell / nushell', 'torvalds / linux']"
      ]
     },
     "execution_count": 29,
     "metadata": {},
     "output_type": "execute_result"
    }
   ],
   "source": [
    "#scraping the title\n",
    "tit=driver.find_elements_by_xpath('//h1[@class=\"h3 lh-condensed\"]/a')\n",
    "for i in tit:\n",
    "    tit=i.text\n",
    "    Title.append(tit)\n",
    "\n",
    "Title[0:4] "
   ]
  },
  {
   "cell_type": "code",
   "execution_count": 30,
   "metadata": {},
   "outputs": [
    {
     "data": {
      "text/plain": [
       "['A fast static site generator in a single binary with everything built-in. https://www.getzola.org',\n",
       " \"Dolt – It's Git for Data\",\n",
       " 'A new type of shell',\n",
       " 'Linux kernel source tree']"
      ]
     },
     "execution_count": 30,
     "metadata": {},
     "output_type": "execute_result"
    }
   ],
   "source": [
    "#scraping the description\n",
    "desc=driver.find_elements_by_xpath('//p[@class=\"col-9 color-text-secondary my-1 pr-4\"]')\n",
    "for i in desc:\n",
    "    desc=i.text\n",
    "    Description.append(desc)\n",
    "\n",
    "Description[0:4] "
   ]
  },
  {
   "cell_type": "code",
   "execution_count": 31,
   "metadata": {},
   "outputs": [
    {
     "data": {
      "text/plain": [
       "['5,617', '444', '4,895', '125']"
      ]
     },
     "execution_count": 31,
     "metadata": {},
     "output_type": "execute_result"
    }
   ],
   "source": [
    "#scraping the contributors\n",
    "cont=driver.find_elements_by_xpath('//a[@class=\"muted-link d-inline-block mr-3\"]')\n",
    "for i in cont:\n",
    "    cont=i.text\n",
    "    Contributors.append(cont)\n",
    "\n",
    "Contributors[0:4] "
   ]
  },
  {
   "cell_type": "code",
   "execution_count": 32,
   "metadata": {},
   "outputs": [
    {
     "name": "stdout",
     "output_type": "stream",
     "text": [
      "25 25 24 50\n"
     ]
    }
   ],
   "source": [
    "print(len(Repository),len(Title),len(Description),len(Contributors))"
   ]
  },
  {
   "cell_type": "code",
   "execution_count": 33,
   "metadata": {},
   "outputs": [
    {
     "data": {
      "text/html": [
       "<div>\n",
       "<style scoped>\n",
       "    .dataframe tbody tr th:only-of-type {\n",
       "        vertical-align: middle;\n",
       "    }\n",
       "\n",
       "    .dataframe tbody tr th {\n",
       "        vertical-align: top;\n",
       "    }\n",
       "\n",
       "    .dataframe thead th {\n",
       "        text-align: right;\n",
       "    }\n",
       "</style>\n",
       "<table border=\"1\" class=\"dataframe\">\n",
       "  <thead>\n",
       "    <tr style=\"text-align: right;\">\n",
       "      <th></th>\n",
       "      <th>Repository</th>\n",
       "      <th>Title</th>\n",
       "      <th>Description</th>\n",
       "      <th>Contributors</th>\n",
       "    </tr>\n",
       "  </thead>\n",
       "  <tbody>\n",
       "    <tr>\n",
       "      <th>0</th>\n",
       "      <td>getzola /</td>\n",
       "      <td>getzola / zola</td>\n",
       "      <td>A fast static site generator in a single binar...</td>\n",
       "      <td>5,617</td>\n",
       "    </tr>\n",
       "    <tr>\n",
       "      <th>1</th>\n",
       "      <td>dolthub /</td>\n",
       "      <td>dolthub / dolt</td>\n",
       "      <td>Dolt – It's Git for Data</td>\n",
       "      <td>444</td>\n",
       "    </tr>\n",
       "    <tr>\n",
       "      <th>2</th>\n",
       "      <td>nushell /</td>\n",
       "      <td>nushell / nushell</td>\n",
       "      <td>A new type of shell</td>\n",
       "      <td>4,895</td>\n",
       "    </tr>\n",
       "    <tr>\n",
       "      <th>3</th>\n",
       "      <td>torvalds /</td>\n",
       "      <td>torvalds / linux</td>\n",
       "      <td>Linux kernel source tree</td>\n",
       "      <td>125</td>\n",
       "    </tr>\n",
       "    <tr>\n",
       "      <th>4</th>\n",
       "      <td>openai /</td>\n",
       "      <td>openai / CLIP</td>\n",
       "      <td>Contrastive Language-Image Pretraining</td>\n",
       "      <td>9,775</td>\n",
       "    </tr>\n",
       "    <tr>\n",
       "      <th>5</th>\n",
       "      <td>coolsnowwolf /</td>\n",
       "      <td>coolsnowwolf / lede</td>\n",
       "      <td>Lean's OpenWrt source</td>\n",
       "      <td>520</td>\n",
       "    </tr>\n",
       "    <tr>\n",
       "      <th>6</th>\n",
       "      <td>jhu-ep-coursera /</td>\n",
       "      <td>jhu-ep-coursera / fullstack-course4</td>\n",
       "      <td>Example code for HTML, CSS, and Javascript for...</td>\n",
       "      <td>106,257</td>\n",
       "    </tr>\n",
       "    <tr>\n",
       "      <th>7</th>\n",
       "      <td>sherlock-project /</td>\n",
       "      <td>sherlock-project / sherlock</td>\n",
       "      <td>🔎 Hunt down social media accounts by username ...</td>\n",
       "      <td>36,046</td>\n",
       "    </tr>\n",
       "    <tr>\n",
       "      <th>8</th>\n",
       "      <td>git /</td>\n",
       "      <td>git / git</td>\n",
       "      <td>Git Source Code Mirror - This is a publish-onl...</td>\n",
       "      <td>2,535</td>\n",
       "    </tr>\n",
       "    <tr>\n",
       "      <th>9</th>\n",
       "      <td>projectdiscovery /</td>\n",
       "      <td>projectdiscovery / nuclei-templates</td>\n",
       "      <td>Community curated list of templates for the nu...</td>\n",
       "      <td>222</td>\n",
       "    </tr>\n",
       "    <tr>\n",
       "      <th>10</th>\n",
       "      <td>dwisiswant0 /</td>\n",
       "      <td>dwisiswant0 / apkleaks</td>\n",
       "      <td>Scanning APK file for URIs, endpoints &amp; secrets.</td>\n",
       "      <td>15,255</td>\n",
       "    </tr>\n",
       "    <tr>\n",
       "      <th>11</th>\n",
       "      <td>SmartThingsCommunity /</td>\n",
       "      <td>SmartThingsCommunity / SmartThingsPublic</td>\n",
       "      <td>SmartThings open-source DeviceTypeHandlers and...</td>\n",
       "      <td>13,242</td>\n",
       "    </tr>\n",
       "    <tr>\n",
       "      <th>12</th>\n",
       "      <td>microsoft /</td>\n",
       "      <td>microsoft / CSS-Exchange</td>\n",
       "      <td>Exchange Server support tools and scripts</td>\n",
       "      <td>4,967</td>\n",
       "    </tr>\n",
       "    <tr>\n",
       "      <th>13</th>\n",
       "      <td>nodegui /</td>\n",
       "      <td>nodegui / svelte-nodegui</td>\n",
       "      <td>Build performant, native and cross-platform de...</td>\n",
       "      <td>7,862</td>\n",
       "    </tr>\n",
       "    <tr>\n",
       "      <th>14</th>\n",
       "      <td>thunlp /</td>\n",
       "      <td>thunlp / GNNPapers</td>\n",
       "      <td>Must-read papers on graph neural networks (GNN)</td>\n",
       "      <td>21,025</td>\n",
       "    </tr>\n",
       "    <tr>\n",
       "      <th>15</th>\n",
       "      <td>TheAlgorithms /</td>\n",
       "      <td>TheAlgorithms / Javascript</td>\n",
       "      <td>A repository for All algorithms implemented in...</td>\n",
       "      <td>2,157</td>\n",
       "    </tr>\n",
       "    <tr>\n",
       "      <th>16</th>\n",
       "      <td>flutter /</td>\n",
       "      <td>flutter / flutter</td>\n",
       "      <td>Flutter makes it easy and fast to build beauti...</td>\n",
       "      <td>36,834</td>\n",
       "    </tr>\n",
       "    <tr>\n",
       "      <th>17</th>\n",
       "      <td>qmk /</td>\n",
       "      <td>qmk / qmk_firmware</td>\n",
       "      <td>Open-source keyboard firmware for Atmel AVR an...</td>\n",
       "      <td>21,045</td>\n",
       "    </tr>\n",
       "    <tr>\n",
       "      <th>18</th>\n",
       "      <td>enaqx /</td>\n",
       "      <td>enaqx / awesome-react</td>\n",
       "      <td>A collection of awesome things regarding React...</td>\n",
       "      <td>1,039</td>\n",
       "    </tr>\n",
       "    <tr>\n",
       "      <th>19</th>\n",
       "      <td>microsoft /</td>\n",
       "      <td>microsoft / vscode</td>\n",
       "      <td>Visual Studio Code</td>\n",
       "      <td>384</td>\n",
       "    </tr>\n",
       "  </tbody>\n",
       "</table>\n",
       "</div>"
      ],
      "text/plain": [
       "                Repository                                     Title  \\\n",
       "0                getzola /                            getzola / zola   \n",
       "1                dolthub /                            dolthub / dolt   \n",
       "2                nushell /                         nushell / nushell   \n",
       "3               torvalds /                          torvalds / linux   \n",
       "4                 openai /                             openai / CLIP   \n",
       "5           coolsnowwolf /                       coolsnowwolf / lede   \n",
       "6        jhu-ep-coursera /       jhu-ep-coursera / fullstack-course4   \n",
       "7       sherlock-project /               sherlock-project / sherlock   \n",
       "8                    git /                                 git / git   \n",
       "9       projectdiscovery /       projectdiscovery / nuclei-templates   \n",
       "10           dwisiswant0 /                    dwisiswant0 / apkleaks   \n",
       "11  SmartThingsCommunity /  SmartThingsCommunity / SmartThingsPublic   \n",
       "12             microsoft /                  microsoft / CSS-Exchange   \n",
       "13               nodegui /                  nodegui / svelte-nodegui   \n",
       "14                thunlp /                        thunlp / GNNPapers   \n",
       "15         TheAlgorithms /                TheAlgorithms / Javascript   \n",
       "16               flutter /                         flutter / flutter   \n",
       "17                   qmk /                        qmk / qmk_firmware   \n",
       "18                 enaqx /                     enaqx / awesome-react   \n",
       "19             microsoft /                        microsoft / vscode   \n",
       "\n",
       "                                          Description Contributors  \n",
       "0   A fast static site generator in a single binar...        5,617  \n",
       "1                            Dolt – It's Git for Data          444  \n",
       "2                                 A new type of shell        4,895  \n",
       "3                            Linux kernel source tree          125  \n",
       "4              Contrastive Language-Image Pretraining        9,775  \n",
       "5                               Lean's OpenWrt source          520  \n",
       "6   Example code for HTML, CSS, and Javascript for...      106,257  \n",
       "7   🔎 Hunt down social media accounts by username ...       36,046  \n",
       "8   Git Source Code Mirror - This is a publish-onl...        2,535  \n",
       "9   Community curated list of templates for the nu...          222  \n",
       "10   Scanning APK file for URIs, endpoints & secrets.       15,255  \n",
       "11  SmartThings open-source DeviceTypeHandlers and...       13,242  \n",
       "12          Exchange Server support tools and scripts        4,967  \n",
       "13  Build performant, native and cross-platform de...        7,862  \n",
       "14    Must-read papers on graph neural networks (GNN)       21,025  \n",
       "15  A repository for All algorithms implemented in...        2,157  \n",
       "16  Flutter makes it easy and fast to build beauti...       36,834  \n",
       "17  Open-source keyboard firmware for Atmel AVR an...       21,045  \n",
       "18  A collection of awesome things regarding React...        1,039  \n",
       "19                                 Visual Studio Code          384  "
      ]
     },
     "execution_count": 33,
     "metadata": {},
     "output_type": "execute_result"
    }
   ],
   "source": [
    "df=pd.DataFrame({\"Repository\":Repository[0:20],\"Title\":Title[0:20],\"Description\":Description[0:20],\"Contributors\":Contributors[0:20]})\n",
    "df"
   ]
  },
  {
   "cell_type": "code",
   "execution_count": null,
   "metadata": {},
   "outputs": [],
   "source": []
  },
  {
   "cell_type": "markdown",
   "metadata": {},
   "source": [
    "6. Scrape the details of top 100 songs on billiboard.com.\n",
    "Url = https://www.billiboard.com/\n",
    "You have to find the following details:\n",
    "A) Song name\n",
    "B) Artist name\n",
    "C) Last week rank\n",
    "D) Peak rank\n",
    "E) Weeks on board\n",
    "Note: - From the home page you have to click on the charts option then hot 100-page link through code."
   ]
  },
  {
   "cell_type": "code",
   "execution_count": 34,
   "metadata": {},
   "outputs": [],
   "source": [
    "#initialising driver\n",
    "driver=webdriver.Chrome(\"C:\\Web driver\\\\chromedriver.exe\")\n",
    "driver.get(' https://www.billiboard.com/  ')"
   ]
  },
  {
   "cell_type": "code",
   "execution_count": null,
   "metadata": {},
   "outputs": [],
   "source": []
  },
  {
   "cell_type": "code",
   "execution_count": null,
   "metadata": {},
   "outputs": [],
   "source": []
  },
  {
   "cell_type": "markdown",
   "metadata": {},
   "source": [
    "7. Scrape the details of Data science recruiters from naukri.com.\n",
    "Url = https://www.naukri.com/\n",
    "You have to find the following details:\n",
    "A) Name\n",
    "B) Designation\n",
    "C) Company\n",
    "D) Skills they hire for\n",
    "E) Location\n",
    "Note: - From naukri.com homepage click on the recruiters option and the on the search pane type Data science and click on search. All this should be done through code"
   ]
  },
  {
   "cell_type": "code",
   "execution_count": 54,
   "metadata": {},
   "outputs": [],
   "source": [
    "#initialising driver\n",
    "driver=webdriver.Chrome(\"C:\\Web driver\\\\chromedriver.exe\")\n",
    "driver.get(' https://www.naukri.com/  ')"
   ]
  },
  {
   "cell_type": "code",
   "execution_count": 36,
   "metadata": {},
   "outputs": [],
   "source": [
    "#to select recruiters menu\n",
    "button = driver.find_element_by_xpath('//div[@class=\"mTxt\"]')\n",
    "button.click()"
   ]
  },
  {
   "cell_type": "code",
   "execution_count": 38,
   "metadata": {},
   "outputs": [],
   "source": [
    "#entering datascience in search field\n",
    "search_field_designation=driver.find_element_by_xpath('//div[@class=\"inpWrap\"]/input')\n",
    "search_field_designation.send_keys(\"Data science\")"
   ]
  },
  {
   "cell_type": "code",
   "execution_count": null,
   "metadata": {},
   "outputs": [],
   "source": [
    "# clicking the search button\n",
    "search_button=driver.find_element_by_xpath('//div[@class=\"sugCont false\"]/button')\n",
    "search_button.click()\n",
    "    "
   ]
  },
  {
   "cell_type": "code",
   "execution_count": 55,
   "metadata": {},
   "outputs": [],
   "source": [
    "# creating empty lists for scraping data\n",
    "Name=[]\n",
    "Designation=[]\n",
    "Company=[]\n",
    "Skills=[]\n",
    "Location=[]"
   ]
  },
  {
   "cell_type": "code",
   "execution_count": 59,
   "metadata": {},
   "outputs": [
    {
     "data": {
      "text/plain": [
       "[]"
      ]
     },
     "execution_count": 59,
     "metadata": {},
     "output_type": "execute_result"
    }
   ],
   "source": [
    "#scraping the name\n",
    "nam=driver.find_elements_by_xpath('//a[@class=\"ellipsis\"]/span')\n",
    "for i in nam:\n",
    "    nam=i.text\n",
    "    Name.append(nam)\n",
    "\n",
    "Name[0:4] "
   ]
  },
  {
   "cell_type": "code",
   "execution_count": null,
   "metadata": {},
   "outputs": [],
   "source": []
  },
  {
   "cell_type": "code",
   "execution_count": null,
   "metadata": {},
   "outputs": [],
   "source": []
  },
  {
   "cell_type": "markdown",
   "metadata": {},
   "source": [
    "8. Scrape the details of Highest selling novels.\n",
    "Url = https://www.theguardian.com/news/datablog/2012/aug/09/best-selling-books-all-time-fifty-shades-grey-compare/\n",
    "You have to find the following details:\n",
    "A) Book name\n",
    "B) Author name\n",
    "C) Volumes sold\n",
    "D) Publisher\n",
    "E) Genre"
   ]
  },
  {
   "cell_type": "code",
   "execution_count": 60,
   "metadata": {},
   "outputs": [],
   "source": [
    "#initialising driver\n",
    "driver=webdriver.Chrome(\"C:\\Web driver\\\\chromedriver.exe\")\n",
    "driver.get('  https://www.theguardian.com/news/datablog/2012/aug/09/best-selling-books-all-time-fifty-shades-grey-compare/  ')"
   ]
  },
  {
   "cell_type": "code",
   "execution_count": 62,
   "metadata": {},
   "outputs": [],
   "source": [
    "# clicking the just list button\n",
    "search_button=driver.find_element_by_xpath('//div[@class=\"stand-first-alone\"]/a')\n",
    "search_button.click()"
   ]
  },
  {
   "cell_type": "code",
   "execution_count": 65,
   "metadata": {},
   "outputs": [],
   "source": [
    "# creating empty lists for scraping data\n",
    "Book={}\n",
    "Book['Book_name']=[]\n",
    "Book['Author']=[]\n",
    "Book['Volume_sold']=[]\n",
    "Book['Publisher']=[]\n",
    "Book['Genre']=[]"
   ]
  },
  {
   "cell_type": "code",
   "execution_count": 67,
   "metadata": {},
   "outputs": [
    {
     "data": {
      "text/html": [
       "<div>\n",
       "<style scoped>\n",
       "    .dataframe tbody tr th:only-of-type {\n",
       "        vertical-align: middle;\n",
       "    }\n",
       "\n",
       "    .dataframe tbody tr th {\n",
       "        vertical-align: top;\n",
       "    }\n",
       "\n",
       "    .dataframe thead th {\n",
       "        text-align: right;\n",
       "    }\n",
       "</style>\n",
       "<table border=\"1\" class=\"dataframe\">\n",
       "  <thead>\n",
       "    <tr style=\"text-align: right;\">\n",
       "      <th></th>\n",
       "      <th>Book_name</th>\n",
       "      <th>Author</th>\n",
       "      <th>Volume_sold</th>\n",
       "      <th>Publisher</th>\n",
       "      <th>Genre</th>\n",
       "    </tr>\n",
       "  </thead>\n",
       "  <tbody>\n",
       "    <tr>\n",
       "      <th>0</th>\n",
       "      <td>Da Vinci Code,The</td>\n",
       "      <td>Brown, Dan</td>\n",
       "      <td>5,094,805</td>\n",
       "      <td>Transworld</td>\n",
       "      <td>Crime, Thriller &amp; Adventure</td>\n",
       "    </tr>\n",
       "    <tr>\n",
       "      <th>1</th>\n",
       "      <td>Harry Potter and the Deathly Hallows</td>\n",
       "      <td>Rowling, J.K.</td>\n",
       "      <td>4,475,152</td>\n",
       "      <td>Bloomsbury</td>\n",
       "      <td>Children's Fiction</td>\n",
       "    </tr>\n",
       "    <tr>\n",
       "      <th>2</th>\n",
       "      <td>Harry Potter and the Philosopher's Stone</td>\n",
       "      <td>Rowling, J.K.</td>\n",
       "      <td>4,200,654</td>\n",
       "      <td>Bloomsbury</td>\n",
       "      <td>Children's Fiction</td>\n",
       "    </tr>\n",
       "    <tr>\n",
       "      <th>3</th>\n",
       "      <td>Harry Potter and the Order of the Phoenix</td>\n",
       "      <td>Rowling, J.K.</td>\n",
       "      <td>4,179,479</td>\n",
       "      <td>Bloomsbury</td>\n",
       "      <td>Children's Fiction</td>\n",
       "    </tr>\n",
       "    <tr>\n",
       "      <th>4</th>\n",
       "      <td>Fifty Shades of Grey</td>\n",
       "      <td>James, E. L.</td>\n",
       "      <td>3,758,936</td>\n",
       "      <td>Random House</td>\n",
       "      <td>Romance &amp; Sagas</td>\n",
       "    </tr>\n",
       "    <tr>\n",
       "      <th>...</th>\n",
       "      <td>...</td>\n",
       "      <td>...</td>\n",
       "      <td>...</td>\n",
       "      <td>...</td>\n",
       "      <td>...</td>\n",
       "    </tr>\n",
       "    <tr>\n",
       "      <th>195</th>\n",
       "      <td>Ghost,The</td>\n",
       "      <td>Harris, Robert</td>\n",
       "      <td>807,311</td>\n",
       "      <td>Random House</td>\n",
       "      <td>General &amp; Literary Fiction</td>\n",
       "    </tr>\n",
       "    <tr>\n",
       "      <th>196</th>\n",
       "      <td>Happy Days with the Naked Chef</td>\n",
       "      <td>Oliver, Jamie</td>\n",
       "      <td>794,201</td>\n",
       "      <td>Penguin</td>\n",
       "      <td>Food &amp; Drink: General</td>\n",
       "    </tr>\n",
       "    <tr>\n",
       "      <th>197</th>\n",
       "      <td>Hunger Games,The:Hunger Games Trilogy</td>\n",
       "      <td>Collins, Suzanne</td>\n",
       "      <td>792,187</td>\n",
       "      <td>Scholastic Ltd.</td>\n",
       "      <td>Young Adult Fiction</td>\n",
       "    </tr>\n",
       "    <tr>\n",
       "      <th>198</th>\n",
       "      <td>Lost Boy,The:A Foster Child's Search for the L...</td>\n",
       "      <td>Pelzer, Dave</td>\n",
       "      <td>791,507</td>\n",
       "      <td>Orion</td>\n",
       "      <td>Biography: General</td>\n",
       "    </tr>\n",
       "    <tr>\n",
       "      <th>199</th>\n",
       "      <td>Jamie's Ministry of Food:Anyone Can Learn to C...</td>\n",
       "      <td>Oliver, Jamie</td>\n",
       "      <td>791,095</td>\n",
       "      <td>Penguin</td>\n",
       "      <td>Food &amp; Drink: General</td>\n",
       "    </tr>\n",
       "  </tbody>\n",
       "</table>\n",
       "<p>200 rows × 5 columns</p>\n",
       "</div>"
      ],
      "text/plain": [
       "                                             Book_name            Author  \\\n",
       "0                                    Da Vinci Code,The        Brown, Dan   \n",
       "1                 Harry Potter and the Deathly Hallows     Rowling, J.K.   \n",
       "2             Harry Potter and the Philosopher's Stone     Rowling, J.K.   \n",
       "3            Harry Potter and the Order of the Phoenix     Rowling, J.K.   \n",
       "4                                 Fifty Shades of Grey      James, E. L.   \n",
       "..                                                 ...               ...   \n",
       "195                                          Ghost,The    Harris, Robert   \n",
       "196                     Happy Days with the Naked Chef     Oliver, Jamie   \n",
       "197              Hunger Games,The:Hunger Games Trilogy  Collins, Suzanne   \n",
       "198  Lost Boy,The:A Foster Child's Search for the L...      Pelzer, Dave   \n",
       "199  Jamie's Ministry of Food:Anyone Can Learn to C...     Oliver, Jamie   \n",
       "\n",
       "    Volume_sold        Publisher                        Genre  \n",
       "0     5,094,805       Transworld  Crime, Thriller & Adventure  \n",
       "1     4,475,152       Bloomsbury           Children's Fiction  \n",
       "2     4,200,654       Bloomsbury           Children's Fiction  \n",
       "3     4,179,479       Bloomsbury           Children's Fiction  \n",
       "4     3,758,936     Random House              Romance & Sagas  \n",
       "..          ...              ...                          ...  \n",
       "195     807,311     Random House   General & Literary Fiction  \n",
       "196     794,201          Penguin        Food & Drink: General  \n",
       "197     792,187  Scholastic Ltd.          Young Adult Fiction  \n",
       "198     791,507            Orion           Biography: General  \n",
       "199     791,095          Penguin        Food & Drink: General  \n",
       "\n",
       "[200 rows x 5 columns]"
      ]
     },
     "execution_count": 67,
     "metadata": {},
     "output_type": "execute_result"
    }
   ],
   "source": [
    "# book name\n",
    "name = driver.find_elements_by_xpath('//table[@class=\"in-article sortable\"]/tbody/tr/td[2]')\n",
    "for d in name:\n",
    "    Book['Book_name'].append(d.text)\n",
    "\n",
    "# author\n",
    "author = driver.find_elements_by_xpath('//table[@class=\"in-article sortable\"]/tbody/tr/td[3]')\n",
    "for n in author:\n",
    "    Book['Author'].append(n.text)\n",
    "    \n",
    "# vol sold\n",
    "vol_sold = driver.find_elements_by_xpath('//table[@class=\"in-article sortable\"]/tbody/tr/td[4]')\n",
    "for m in vol_sold:\n",
    "    Book['Volume_sold'].append(m.text)\n",
    "    \n",
    "# publisher\n",
    "publ= driver.find_elements_by_xpath('//table[@class=\"in-article sortable\"]/tbody/tr/td[5]')\n",
    "for s in publ:\n",
    "    Book['Publisher'].append(s.text)\n",
    "\n",
    "# genre\n",
    "genre= driver.find_elements_by_xpath('//table[@class=\"in-article sortable\"]/tbody/tr/td[6]')\n",
    "for l in genre:\n",
    "    Book['Genre'].append(l.text)\n",
    "    \n",
    "    \n",
    "Book = pd.DataFrame(Book)\n",
    "Book"
   ]
  },
  {
   "cell_type": "code",
   "execution_count": null,
   "metadata": {},
   "outputs": [],
   "source": []
  },
  {
   "cell_type": "markdown",
   "metadata": {},
   "source": [
    "9. Scrape the details most watched tv series of all time from imdb.com.\n",
    "Url = https://www.imdb.com/list/ls095964455/\n",
    "You have to find the following details:\n",
    "A) Name\n",
    "B) Year span\n",
    "C) Genre\n",
    "D) Run time\n",
    "E) Ratings\n",
    "F) Votes"
   ]
  },
  {
   "cell_type": "code",
   "execution_count": 2,
   "metadata": {},
   "outputs": [],
   "source": [
    "#initialising driver\n",
    "driver=webdriver.Chrome(\"C:\\Web driver\\\\chromedriver.exe\")\n",
    "driver.get(' https://www.imdb.com/list/ls095964455/  ')"
   ]
  },
  {
   "cell_type": "code",
   "execution_count": 4,
   "metadata": {},
   "outputs": [],
   "source": [
    "# creating empty lists for scraping data\n",
    "Name=[]\n",
    "Year_span=[]\n",
    "Genre=[]\n",
    "Runtime=[]\n",
    "Rating=[]\n",
    "Votes=[]"
   ]
  },
  {
   "cell_type": "code",
   "execution_count": 17,
   "metadata": {},
   "outputs": [
    {
     "data": {
      "text/plain": [
       "['Game of Thrones', 'Stranger Things', 'The Walking Dead', '13 Reasons Why']"
      ]
     },
     "execution_count": 17,
     "metadata": {},
     "output_type": "execute_result"
    }
   ],
   "source": [
    "#scraping the name\n",
    "name=driver.find_elements_by_xpath('//h3[@class=\"lister-item-header\"]/a')\n",
    "for i in name:\n",
    "    name=i.text\n",
    "    Name.append(name)\n",
    "\n",
    "Name[0:4] "
   ]
  },
  {
   "cell_type": "code",
   "execution_count": 5,
   "metadata": {},
   "outputs": [
    {
     "data": {
      "text/plain": [
       "['(2011–2019)', '(2016– )', '(2010– )', '(2017–2020)']"
      ]
     },
     "execution_count": 5,
     "metadata": {},
     "output_type": "execute_result"
    }
   ],
   "source": [
    "#scraping the year span\n",
    "year=driver.find_elements_by_xpath('//h3[@class=\"lister-item-header\"]/span[2]')\n",
    "for i in year:\n",
    "    year=i.text\n",
    "    Year_span.append(year)\n",
    "\n",
    "Year_span[0:4] "
   ]
  },
  {
   "cell_type": "code",
   "execution_count": 7,
   "metadata": {},
   "outputs": [
    {
     "data": {
      "text/plain": [
       "['Action, Adventure, Drama',\n",
       " 'Drama, Fantasy, Horror',\n",
       " 'Drama, Horror, Thriller',\n",
       " 'Drama, Mystery, Thriller']"
      ]
     },
     "execution_count": 7,
     "metadata": {},
     "output_type": "execute_result"
    }
   ],
   "source": [
    "#scraping the genre\n",
    "genr=driver.find_elements_by_xpath('//p[@class=\"text-muted text-small\"]/span[5]')\n",
    "for i in genr:\n",
    "    genr=i.text\n",
    "    Genre.append(genr)\n",
    "\n",
    "Genre[0:4] "
   ]
  },
  {
   "cell_type": "code",
   "execution_count": 8,
   "metadata": {},
   "outputs": [
    {
     "data": {
      "text/plain": [
       "['57 min', '51 min', '44 min', '60 min']"
      ]
     },
     "execution_count": 8,
     "metadata": {},
     "output_type": "execute_result"
    }
   ],
   "source": [
    "#scraping the runtime\n",
    "time=driver.find_elements_by_xpath('//p[@class=\"text-muted text-small\"]/span[3]')\n",
    "for i in time:\n",
    "    time=i.text\n",
    "    Runtime.append(time)\n",
    "\n",
    "Runtime[0:4] "
   ]
  },
  {
   "cell_type": "code",
   "execution_count": 9,
   "metadata": {},
   "outputs": [
    {
     "data": {
      "text/plain": [
       "['9.3', '8.7', '8.2', '7.6']"
      ]
     },
     "execution_count": 9,
     "metadata": {},
     "output_type": "execute_result"
    }
   ],
   "source": [
    "#scraping the rating\n",
    "rtng=driver.find_elements_by_xpath('//div[@class=\"ipl-rating-star small\"]/span[2]')\n",
    "for i in rtng:\n",
    "    rtng=i.text\n",
    "    Rating.append(rtng)\n",
    "\n",
    "Rating[0:4] "
   ]
  },
  {
   "cell_type": "code",
   "execution_count": 14,
   "metadata": {},
   "outputs": [
    {
     "data": {
      "text/plain": [
       "['|', '1,779,004', '|', '829,500']"
      ]
     },
     "execution_count": 14,
     "metadata": {},
     "output_type": "execute_result"
    }
   ],
   "source": [
    "#scraping the votes\n",
    "vot=driver.find_elements_by_xpath('//p[@class=\"text-muted text-small\"]/span[2]')\n",
    "for i in vot:\n",
    "    vot=i.text\n",
    "    Votes.append(vot)\n",
    "\n",
    "Votes[0:4] "
   ]
  },
  {
   "cell_type": "code",
   "execution_count": 18,
   "metadata": {},
   "outputs": [
    {
     "name": "stdout",
     "output_type": "stream",
     "text": [
      "100 100 100 100 100 600\n"
     ]
    }
   ],
   "source": [
    "print(len(Name),len(Year_span),len(Genre),len(Runtime),len(Rating),len(Votes))"
   ]
  },
  {
   "cell_type": "code",
   "execution_count": 19,
   "metadata": {},
   "outputs": [
    {
     "data": {
      "text/html": [
       "<div>\n",
       "<style scoped>\n",
       "    .dataframe tbody tr th:only-of-type {\n",
       "        vertical-align: middle;\n",
       "    }\n",
       "\n",
       "    .dataframe tbody tr th {\n",
       "        vertical-align: top;\n",
       "    }\n",
       "\n",
       "    .dataframe thead th {\n",
       "        text-align: right;\n",
       "    }\n",
       "</style>\n",
       "<table border=\"1\" class=\"dataframe\">\n",
       "  <thead>\n",
       "    <tr style=\"text-align: right;\">\n",
       "      <th></th>\n",
       "      <th>Name</th>\n",
       "      <th>Year_span</th>\n",
       "      <th>Genre</th>\n",
       "      <th>Runtime</th>\n",
       "      <th>Rating</th>\n",
       "      <th>Votes</th>\n",
       "    </tr>\n",
       "  </thead>\n",
       "  <tbody>\n",
       "    <tr>\n",
       "      <th>0</th>\n",
       "      <td>Game of Thrones</td>\n",
       "      <td>(2011–2019)</td>\n",
       "      <td>Action, Adventure, Drama</td>\n",
       "      <td>57 min</td>\n",
       "      <td>9.3</td>\n",
       "      <td>|</td>\n",
       "    </tr>\n",
       "    <tr>\n",
       "      <th>1</th>\n",
       "      <td>Stranger Things</td>\n",
       "      <td>(2016– )</td>\n",
       "      <td>Drama, Fantasy, Horror</td>\n",
       "      <td>51 min</td>\n",
       "      <td>8.7</td>\n",
       "      <td>1,779,004</td>\n",
       "    </tr>\n",
       "    <tr>\n",
       "      <th>2</th>\n",
       "      <td>The Walking Dead</td>\n",
       "      <td>(2010– )</td>\n",
       "      <td>Drama, Horror, Thriller</td>\n",
       "      <td>44 min</td>\n",
       "      <td>8.2</td>\n",
       "      <td>|</td>\n",
       "    </tr>\n",
       "    <tr>\n",
       "      <th>3</th>\n",
       "      <td>13 Reasons Why</td>\n",
       "      <td>(2017–2020)</td>\n",
       "      <td>Drama, Mystery, Thriller</td>\n",
       "      <td>60 min</td>\n",
       "      <td>7.6</td>\n",
       "      <td>829,500</td>\n",
       "    </tr>\n",
       "    <tr>\n",
       "      <th>4</th>\n",
       "      <td>The 100</td>\n",
       "      <td>(2014–2020)</td>\n",
       "      <td>Drama, Mystery, Sci-Fi</td>\n",
       "      <td>43 min</td>\n",
       "      <td>7.6</td>\n",
       "      <td>|</td>\n",
       "    </tr>\n",
       "    <tr>\n",
       "      <th>...</th>\n",
       "      <td>...</td>\n",
       "      <td>...</td>\n",
       "      <td>...</td>\n",
       "      <td>...</td>\n",
       "      <td>...</td>\n",
       "      <td>...</td>\n",
       "    </tr>\n",
       "    <tr>\n",
       "      <th>95</th>\n",
       "      <td>Reign</td>\n",
       "      <td>(2013–2017)</td>\n",
       "      <td>Drama, Fantasy</td>\n",
       "      <td>42 min</td>\n",
       "      <td>7.5</td>\n",
       "      <td>204,532</td>\n",
       "    </tr>\n",
       "    <tr>\n",
       "      <th>96</th>\n",
       "      <td>A Series of Unfortunate Events</td>\n",
       "      <td>(2017–2019)</td>\n",
       "      <td>Adventure, Comedy, Drama</td>\n",
       "      <td>50 min</td>\n",
       "      <td>7.8</td>\n",
       "      <td>|</td>\n",
       "    </tr>\n",
       "    <tr>\n",
       "      <th>97</th>\n",
       "      <td>Criminal Minds</td>\n",
       "      <td>(2005–2020)</td>\n",
       "      <td>Crime, Drama, Mystery</td>\n",
       "      <td>42 min</td>\n",
       "      <td>8.1</td>\n",
       "      <td>193,441</td>\n",
       "    </tr>\n",
       "    <tr>\n",
       "      <th>98</th>\n",
       "      <td>Scream: The TV Series</td>\n",
       "      <td>(2015–2019)</td>\n",
       "      <td>Crime, Drama, Horror</td>\n",
       "      <td>45 min</td>\n",
       "      <td>7.2</td>\n",
       "      <td>|</td>\n",
       "    </tr>\n",
       "    <tr>\n",
       "      <th>99</th>\n",
       "      <td>The Haunting of Hill House</td>\n",
       "      <td>(2018)</td>\n",
       "      <td>Drama, Horror, Mystery</td>\n",
       "      <td>572 min</td>\n",
       "      <td>8.6</td>\n",
       "      <td>200,543</td>\n",
       "    </tr>\n",
       "  </tbody>\n",
       "</table>\n",
       "<p>100 rows × 6 columns</p>\n",
       "</div>"
      ],
      "text/plain": [
       "                              Name    Year_span                     Genre  \\\n",
       "0                  Game of Thrones  (2011–2019)  Action, Adventure, Drama   \n",
       "1                  Stranger Things     (2016– )    Drama, Fantasy, Horror   \n",
       "2                 The Walking Dead     (2010– )   Drama, Horror, Thriller   \n",
       "3                   13 Reasons Why  (2017–2020)  Drama, Mystery, Thriller   \n",
       "4                          The 100  (2014–2020)    Drama, Mystery, Sci-Fi   \n",
       "..                             ...          ...                       ...   \n",
       "95                           Reign  (2013–2017)            Drama, Fantasy   \n",
       "96  A Series of Unfortunate Events  (2017–2019)  Adventure, Comedy, Drama   \n",
       "97                  Criminal Minds  (2005–2020)     Crime, Drama, Mystery   \n",
       "98           Scream: The TV Series  (2015–2019)      Crime, Drama, Horror   \n",
       "99      The Haunting of Hill House       (2018)    Drama, Horror, Mystery   \n",
       "\n",
       "    Runtime Rating      Votes  \n",
       "0    57 min    9.3          |  \n",
       "1    51 min    8.7  1,779,004  \n",
       "2    44 min    8.2          |  \n",
       "3    60 min    7.6    829,500  \n",
       "4    43 min    7.6          |  \n",
       "..      ...    ...        ...  \n",
       "95   42 min    7.5    204,532  \n",
       "96   50 min    7.8          |  \n",
       "97   42 min    8.1    193,441  \n",
       "98   45 min    7.2          |  \n",
       "99  572 min    8.6    200,543  \n",
       "\n",
       "[100 rows x 6 columns]"
      ]
     },
     "execution_count": 19,
     "metadata": {},
     "output_type": "execute_result"
    }
   ],
   "source": [
    "df=pd.DataFrame({\"Name\":Name[0:100],\"Year_span\":Year_span[0:100],\"Genre\":Genre[0:100],\"Runtime\":Runtime[0:100],\"Rating\":Rating[0:100],\"Votes\":Votes[0:100]})\n",
    "df"
   ]
  },
  {
   "cell_type": "code",
   "execution_count": null,
   "metadata": {},
   "outputs": [],
   "source": []
  },
  {
   "cell_type": "markdown",
   "metadata": {},
   "source": [
    "10. Details of Datasets from UCI machine learning repositories.\n",
    "Url = https://archive.ics.uci.edu/\n",
    "You have to find the following details:\n",
    "A) Dataset name\n",
    "B) Data type\n",
    "C) Task\n",
    "D) Attribute type\n",
    "E) No of instances\n",
    "F) No of attribute\n",
    "G) Year\n",
    "Note: - from the home page you have to go to the ShowAllDataset page through code."
   ]
  },
  {
   "cell_type": "code",
   "execution_count": 3,
   "metadata": {},
   "outputs": [],
   "source": [
    "#initialising driver\n",
    "driver=webdriver.Chrome(\"C:\\Web driver\\\\chromedriver.exe\")\n",
    "driver.get(' https://archive.ics.uci.edu/   ')"
   ]
  },
  {
   "cell_type": "code",
   "execution_count": 5,
   "metadata": {},
   "outputs": [
    {
     "ename": "AttributeError",
     "evalue": "'NoneType' object has no attribute 'get_attribute'",
     "output_type": "error",
     "traceback": [
      "\u001b[1;31m---------------------------------------------------------------------------\u001b[0m",
      "\u001b[1;31mAttributeError\u001b[0m                            Traceback (most recent call last)",
      "\u001b[1;32m<ipython-input-5-c41ef9f8a55a>\u001b[0m in \u001b[0;36m<module>\u001b[1;34m\u001b[0m\n\u001b[0;32m      3\u001b[0m \u001b[0murls\u001b[0m \u001b[1;33m=\u001b[0m \u001b[0mdriver\u001b[0m\u001b[1;33m.\u001b[0m\u001b[0mfind_elements_by_xpath\u001b[0m\u001b[1;33m(\u001b[0m\u001b[1;34m'//span[@class=\"normal\"]'\u001b[0m\u001b[1;33m)\u001b[0m\u001b[1;33m\u001b[0m\u001b[1;33m\u001b[0m\u001b[0m\n\u001b[0;32m      4\u001b[0m \u001b[1;32mfor\u001b[0m \u001b[0murl\u001b[0m \u001b[1;32min\u001b[0m \u001b[0murls\u001b[0m\u001b[1;33m:\u001b[0m\u001b[1;33m\u001b[0m\u001b[1;33m\u001b[0m\u001b[0m\n\u001b[1;32m----> 5\u001b[1;33m     \u001b[0murls\u001b[0m\u001b[1;33m.\u001b[0m\u001b[0mappend\u001b[0m\u001b[1;33m(\u001b[0m\u001b[0murl\u001b[0m\u001b[1;33m.\u001b[0m\u001b[0mget_attribute\u001b[0m\u001b[1;33m(\u001b[0m\u001b[1;34m\"href\"\u001b[0m\u001b[1;33m)\u001b[0m\u001b[1;33m)\u001b[0m\u001b[1;33m\u001b[0m\u001b[1;33m\u001b[0m\u001b[0m\n\u001b[0m",
      "\u001b[1;31mAttributeError\u001b[0m: 'NoneType' object has no attribute 'get_attribute'"
     ]
    }
   ],
   "source": [
    "# Fetching urls of repositories coming on 1st page\n",
    "urls = []\n",
    "urls = driver.find_elements_by_xpath('//span[@class=\"normal\"]')\n",
    "for url in urls:\n",
    "    urls.append(url.get_attribute(\"href\"))"
   ]
  },
  {
   "cell_type": "code",
   "execution_count": null,
   "metadata": {},
   "outputs": [],
   "source": []
  },
  {
   "cell_type": "code",
   "execution_count": null,
   "metadata": {},
   "outputs": [],
   "source": []
  },
  {
   "cell_type": "code",
   "execution_count": null,
   "metadata": {},
   "outputs": [],
   "source": []
  }
 ],
 "metadata": {
  "kernelspec": {
   "display_name": "Python 3",
   "language": "python",
   "name": "python3"
  },
  "language_info": {
   "codemirror_mode": {
    "name": "ipython",
    "version": 3
   },
   "file_extension": ".py",
   "mimetype": "text/x-python",
   "name": "python",
   "nbconvert_exporter": "python",
   "pygments_lexer": "ipython3",
   "version": "3.8.3"
  }
 },
 "nbformat": 4,
 "nbformat_minor": 4
}
